{
  "cells": [
    {
      "cell_type": "markdown",
      "metadata": {
        "id": "KC7KsRTqItRM"
      },
      "source": [
        "**Lecture 10: Files 1 (Text files)**"
      ]
    },
    {
      "cell_type": "markdown",
      "metadata": {
        "id": "slYTjCu7I2-x"
      },
      "source": [
        "3. Read file"
      ]
    },
    {
      "cell_type": "code",
      "execution_count": null,
      "metadata": {
        "colab": {
          "base_uri": "https://localhost:8080/"
        },
        "id": "9UkCg9kEIpXL",
        "outputId": "259272a9-d194-4a86-ab0b-04c3f465eb60"
      },
      "outputs": [
        {
          "name": "stdout",
          "output_type": "stream",
          "text": [
            "Writing myfile.txt\n"
          ]
        }
      ],
      "source": [
        "%%writefile myfile.txt\n",
        "first line of the file.\n",
        "Second line of the file.\n",
        "Third line of the file."
      ]
    },
    {
      "cell_type": "code",
      "execution_count": null,
      "metadata": {
        "colab": {
          "base_uri": "https://localhost:8080/"
        },
        "id": "7MfzAmlSJPwr",
        "outputId": "64521f9f-1088-4ac0-9f67-818c456c7c74"
      },
      "outputs": [
        {
          "name": "stdout",
          "output_type": "stream",
          "text": [
            "first line of the file.\n",
            "Second line of the file.\n",
            "Third line of the file.\n"
          ]
        }
      ],
      "source": [
        "f = open('myfile.txt')\n",
        "\n",
        "print(f.read())\n"
      ]
    },
    {
      "cell_type": "code",
      "execution_count": null,
      "metadata": {
        "colab": {
          "base_uri": "https://localhost:8080/"
        },
        "id": "RPz8LKE_JxQe",
        "outputId": "8bccb4f4-ab87-4296-c639-cd8be81fb681"
      },
      "outputs": [
        {
          "name": "stdout",
          "output_type": "stream",
          "text": [
            "first\n",
            " line\n"
          ]
        }
      ],
      "source": [
        "# .read(n)\n",
        "# The first n characters are called.\n",
        "# If we call the method again, the next n characters are called.\n",
        "\n",
        "f = open('myfile.txt')\n",
        "print(f.read(5))\n",
        "print(f.read(5))"
      ]
    },
    {
      "cell_type": "markdown",
      "metadata": {
        "id": "t39xi2clKyym"
      },
      "source": [
        "4. Read lines"
      ]
    },
    {
      "cell_type": "code",
      "execution_count": null,
      "metadata": {
        "colab": {
          "base_uri": "https://localhost:8080/"
        },
        "id": "Un7p4pX5Kbwe",
        "outputId": "908bb031-7a76-420b-dfcd-6356e0e8b95b"
      },
      "outputs": [
        {
          "name": "stdout",
          "output_type": "stream",
          "text": [
            "first line of the file.\n",
            "\n",
            "Second line of the file.\n",
            "\n"
          ]
        }
      ],
      "source": [
        "# To read a single line from the file, use readline() method.\n",
        "\n",
        "f = open('myfile.txt')\n",
        "print(f.readline())\n",
        "\n",
        "# Call it again to read next line\n",
        "print(f.readline())"
      ]
    },
    {
      "cell_type": "code",
      "execution_count": null,
      "metadata": {
        "colab": {
          "base_uri": "https://localhost:8080/"
        },
        "id": "U7XcSNwHK3Tv",
        "outputId": "91552f4f-5716-43e7-eb2b-812435583991"
      },
      "outputs": [
        {
          "name": "stdout",
          "output_type": "stream",
          "text": [
            "first line of the file.\n",
            "\n",
            "Second line of the file.\n",
            "\n",
            "Third line of the file.\n"
          ]
        }
      ],
      "source": [
        "# You can loop through an entire file line-by-line using a simple for loop.\n",
        "\n",
        "f = open('myfile.txt')\n",
        "\n",
        "for i in f:\n",
        "  print(i)\n"
      ]
    },
    {
      "cell_type": "code",
      "execution_count": null,
      "metadata": {
        "colab": {
          "base_uri": "https://localhost:8080/"
        },
        "id": "Mp2eKryXLR5d",
        "outputId": "e7df7765-a163-4a4d-8df0-eb1a71bc2026"
      },
      "outputs": [
        {
          "name": "stdout",
          "output_type": "stream",
          "text": [
            "['first line of the file.\\n', 'Second line of the file.\\n', 'Third line of the file.']\n"
          ]
        }
      ],
      "source": [
        "# If you want to read all the lines in a file into a list of stings, use readlines() method.\n",
        "\n",
        "f = open('myfile.txt')\n",
        "print(f.readlines())\n"
      ]
    },
    {
      "cell_type": "markdown",
      "metadata": {
        "id": "zQ5teKp2L6E0"
      },
      "source": [
        "5. Write a file"
      ]
    },
    {
      "cell_type": "code",
      "execution_count": null,
      "metadata": {
        "colab": {
          "base_uri": "https://localhost:8080/"
        },
        "id": "OFcIxnu3L8r4",
        "outputId": "a236662f-e38a-405a-f5c5-c4e985f6af02"
      },
      "outputs": [
        {
          "data": {
            "text/plain": [
              "24"
            ]
          },
          "execution_count": 11,
          "metadata": {},
          "output_type": "execute_result"
        }
      ],
      "source": [
        "f = open('myfile.txt', 'w')\n",
        "f.write('Overwrite existing data.')"
      ]
    },
    {
      "cell_type": "code",
      "execution_count": null,
      "metadata": {
        "colab": {
          "base_uri": "https://localhost:8080/"
        },
        "id": "sqNIxwzoMhSY",
        "outputId": "8cc82015-0855-426e-f415-34fcd28ad83a"
      },
      "outputs": [
        {
          "name": "stdout",
          "output_type": "stream",
          "text": [
            "Overwrite existing data.\n"
          ]
        }
      ],
      "source": [
        "f = open('myfile.txt')\n",
        "print(f.read())"
      ]
    },
    {
      "cell_type": "code",
      "execution_count": null,
      "metadata": {
        "colab": {
          "base_uri": "https://localhost:8080/"
        },
        "id": "3E60AW0dMwLO",
        "outputId": "7b2d925d-72ea-44ad-dd25-75ab2f5e7bee"
      },
      "outputs": [
        {
          "data": {
            "text/plain": [
              "72"
            ]
          },
          "execution_count": 14,
          "metadata": {},
          "output_type": "execute_result"
        }
      ],
      "source": [
        "f = open('myfile.txt', 'w')\n",
        "f.write('First line of the file.\\nSecond line of the file.\\nThird line of the file.')"
      ]
    },
    {
      "cell_type": "code",
      "execution_count": null,
      "metadata": {
        "colab": {
          "base_uri": "https://localhost:8080/"
        },
        "id": "uLlH6QgRNAKw",
        "outputId": "bd569390-cabe-4162-d9e6-f9c51d7cec9a"
      },
      "outputs": [
        {
          "name": "stdout",
          "output_type": "stream",
          "text": [
            "First line of the file.\n",
            "Second line of the file.\n",
            "Third line of the file.\n"
          ]
        }
      ],
      "source": [
        "f = open('myfile.txt')\n",
        "print(f.read())"
      ]
    },
    {
      "cell_type": "code",
      "execution_count": null,
      "metadata": {
        "colab": {
          "base_uri": "https://localhost:8080/"
        },
        "id": "9N1sP4sgNJzx",
        "outputId": "6829804b-ee42-49ef-d56c-b71e4f15349b"
      },
      "outputs": [
        {
          "data": {
            "text/plain": [
              "17"
            ]
          },
          "execution_count": 17,
          "metadata": {},
          "output_type": "execute_result"
        }
      ],
      "source": [
        " # Append mode 'a'\n",
        "\n",
        "f = open('myfile.txt', 'a')\n",
        "f.write('Append this text.')"
      ]
    },
    {
      "cell_type": "code",
      "execution_count": null,
      "metadata": {
        "colab": {
          "base_uri": "https://localhost:8080/"
        },
        "id": "-Afn-2W-NX-K",
        "outputId": "0a1daf2e-d4df-4688-8999-3c159b91ecec"
      },
      "outputs": [
        {
          "name": "stdout",
          "output_type": "stream",
          "text": [
            "First line of the file.\n",
            "Second line of the file.\n",
            "Third line of the file.Append this text.\n"
          ]
        }
      ],
      "source": [
        "f = open('myfile.txt')\n",
        "print(f.read())"
      ]
    },
    {
      "cell_type": "code",
      "execution_count": null,
      "metadata": {
        "colab": {
          "base_uri": "https://localhost:8080/"
        },
        "id": "CUlT0SEdNyHz",
        "outputId": "f701bbc3-8864-4064-c227-570308f0598d"
      },
      "outputs": [
        {
          "data": {
            "text/plain": [
              "24"
            ]
          },
          "execution_count": 20,
          "metadata": {},
          "output_type": "execute_result"
        }
      ],
      "source": [
        "f = open('myfile.txt', 'a')\n",
        "f.write('\\nForth line of the file.')"
      ]
    },
    {
      "cell_type": "code",
      "execution_count": null,
      "metadata": {
        "colab": {
          "base_uri": "https://localhost:8080/"
        },
        "id": "n2Tc_Kg2N5er",
        "outputId": "4d8c96a5-5cb5-4b46-bd77-6800c970b279"
      },
      "outputs": [
        {
          "name": "stdout",
          "output_type": "stream",
          "text": [
            "First line of the file.\n",
            "Second line of the file.\n",
            "Third line of the file.Append this text.\n",
            "Forth line of the file.\n"
          ]
        }
      ],
      "source": [
        "f = open('myfile.txt')\n",
        "print(f.read())"
      ]
    },
    {
      "cell_type": "code",
      "execution_count": null,
      "metadata": {
        "colab": {
          "base_uri": "https://localhost:8080/"
        },
        "id": "wl27jdWLOFTM",
        "outputId": "79c3c781-08e9-4c98-df12-5a76b889f255"
      },
      "outputs": [
        {
          "data": {
            "text/plain": [
              "18"
            ]
          },
          "execution_count": 23,
          "metadata": {},
          "output_type": "execute_result"
        }
      ],
      "source": [
        "# Read-write mode 'r+'\n",
        "\n",
        "# In 'r+' mode, the file is partially overwritten.\n",
        "# (it overwrites the file with new text, replacing character by character)\n",
        "\n",
        "f = open('myfile.txt', 'r+')\n",
        "f.write('---XXXXXX XXXXX---')\n"
      ]
    },
    {
      "cell_type": "code",
      "execution_count": null,
      "metadata": {
        "colab": {
          "base_uri": "https://localhost:8080/"
        },
        "id": "2tnT1bsyOpZ8",
        "outputId": "9b05f7b2-f62b-4944-faf7-84f666fa308a"
      },
      "outputs": [
        {
          "name": "stdout",
          "output_type": "stream",
          "text": [
            "---XXXXXX XXXXX---file.\n",
            "Second line of the file.\n",
            "Third line of the file.Append this text.\n",
            "Forth line of the file.\n"
          ]
        }
      ],
      "source": [
        "f = open('myfile.txt')\n",
        "print(f.read())"
      ]
    },
    {
      "cell_type": "markdown",
      "metadata": {
        "id": "SDukae0kO1W9"
      },
      "source": [
        "6. Write Multiple Lines"
      ]
    },
    {
      "cell_type": "code",
      "execution_count": null,
      "metadata": {
        "id": "I4LHCBicOzbd"
      },
      "outputs": [],
      "source": [
        "# To write multiple lines to a file at once, use writelines() method.\n",
        "# This method accepts list of strings as an input.\n",
        "\n",
        "f = open('myfile.txt', 'w')\n",
        "lines = ['New line 1\\n', 'New line 2\\n', 'New line 3']\n",
        "f.writelines(lines)\n",
        "\n",
        "# When you write to a file, the data is not immediately written to disk instead it is stored in buffer memory.\n",
        "# It is written to disk only when you close the file.\n",
        "f.close()\n"
      ]
    },
    {
      "cell_type": "code",
      "execution_count": null,
      "metadata": {
        "colab": {
          "base_uri": "https://localhost:8080/"
        },
        "id": "kg1HqF7QQZqD",
        "outputId": "902429d3-9e77-4eca-b5bf-ff474a6324f9"
      },
      "outputs": [
        {
          "name": "stdout",
          "output_type": "stream",
          "text": [
            "New line 1\n",
            "New line 2\n",
            "New line 3\n"
          ]
        }
      ],
      "source": [
        "f = open('myfile.txt')\n",
        "print(f.read())"
      ]
    },
    {
      "cell_type": "markdown",
      "metadata": {
        "id": "-qfCnNH-Qlgd"
      },
      "source": [
        "Examples"
      ]
    },
    {
      "cell_type": "code",
      "execution_count": null,
      "metadata": {
        "id": "BQ4CPbehQpjn"
      },
      "outputs": [],
      "source": [
        "# Example 1: Create a text file with 100 random numbers\n",
        "\n",
        "import random\n",
        "\n",
        "f = open('example_file1.txt', 'w')\n",
        "x = []\n",
        "for i in range(100):\n",
        "  x.append(random.randrange(100))\n",
        "  f.write(str(x[i])+'\\n')\n",
        "f.close()"
      ]
    },
    {
      "cell_type": "code",
      "execution_count": null,
      "metadata": {
        "colab": {
          "base_uri": "https://localhost:8080/"
        },
        "id": "s9Dws42_Sz01",
        "outputId": "625efe8d-e9a2-455a-c260-0729451814e8"
      },
      "outputs": [
        {
          "name": "stdout",
          "output_type": "stream",
          "text": [
            "Sum = 4866\n",
            "Average = 48.66\n"
          ]
        }
      ],
      "source": [
        "# Example 2: Read file and find sum and average\n",
        "\n",
        "f = open('example_file1.txt')\n",
        "s = 0\n",
        "nlines = 0\n",
        "for i in f:\n",
        "  s += int(i)\n",
        "  nlines += 1\n",
        "f.close()\n",
        "\n",
        "print('Sum =', s)\n",
        "print('Average =', float(s/nlines))"
      ]
    },
    {
      "cell_type": "code",
      "execution_count": null,
      "metadata": {
        "id": "uG02fbhxTkzN"
      },
      "outputs": [],
      "source": [
        "# Exercise A: Modify Ex. 2 so that the program can sort the numbers from the file\n",
        "#             and print the result in to a new file.\n",
        "\n",
        "# (1) Read and then put those numbers in to a list y\n",
        "f = open('example_file1.txt')\n",
        "y = []\n",
        "for i in f:\n",
        "  y.append(int(i))\n",
        "f.close()\n",
        "\n",
        "# (2) Sort numbers in list y\n",
        "y.sort()\n",
        "\n",
        "# (3) Write sorted list to a new file using 'w' mode\n",
        "f = open('example_file1_sorted.txt', 'w')\n",
        "for i in range(len(y)):\n",
        "  f.write(str(y[i]) + '\\n')\n",
        "f.close()\n"
      ]
    },
    {
      "cell_type": "code",
      "execution_count": null,
      "metadata": {
        "id": "TquzNwB0VpQc"
      },
      "outputs": [],
      "source": [
        "# Example 3: Create an upper-case version of a text file.\n",
        "\n",
        "#(1) Read from a text file\n",
        "f = open('100west.txt')\n",
        "s = []\n",
        "s = f.readlines()\n",
        "f.close()\n",
        "\n",
        "#(2) Turn string s[i] into uppercase\n",
        "for i in range(len(s)):\n",
        "  s[i] = s[i].upper()\n",
        "\n",
        "#(3) Write result into a new file\n",
        "f = open('100west_upper.txt', 'w')\n",
        "for i in s:\n",
        "  f.write(i)\n",
        "\n",
        "f.close()"
      ]
    },
    {
      "cell_type": "code",
      "execution_count": null,
      "metadata": {
        "id": "qHH3utXlYZNd"
      },
      "outputs": [],
      "source": [
        "# Exercise B: Replace the word 'the' in 100west.txt with 'XXX' and save\n",
        "#             the result in a new file named 100westXXX.txt\n",
        "\n",
        "#(1) Read from a text file\n",
        "f = open('100west.txt')\n",
        "s = []\n",
        "s = f.readlines()\n",
        "f.close()\n",
        "\n",
        "#(2) Replace 'the' with 'XXX'\n",
        "for i in range(len(s)):\n",
        "  s[i] = s[i].replace('the', 'XXX')\n",
        "\n",
        "#(3) Write result into a new file\n",
        "f = open('100westXXX.txt', 'w')\n",
        "for i in s:\n",
        "  f.write(i)\n",
        "\n",
        "f.close()"
      ]
    },
    {
      "cell_type": "markdown",
      "metadata": {
        "id": "NnBwg2DtcN0q"
      },
      "source": [
        "**Lab 10: Files 1 (Text files)**"
      ]
    },
    {
      "cell_type": "markdown",
      "metadata": {
        "id": "yHooOEnac3B0"
      },
      "source": [
        "Name: Santi Phithakkitnukoon\n",
        "\n",
        "Student ID: 640156565656"
      ]
    },
    {
      "cell_type": "code",
      "execution_count": null,
      "metadata": {
        "colab": {
          "base_uri": "https://localhost:8080/"
        },
        "id": "VEdR0bnBcVPQ",
        "outputId": "4be86f2a-9087-450d-9725-1ac8a61892d8"
      },
      "outputs": [
        {
          "name": "stdout",
          "output_type": "stream",
          "text": [
            "Writing my_module.py\n"
          ]
        }
      ],
      "source": [
        "%%writefile my_module.py\n",
        "\n",
        "def minimum(n):\n",
        "\tm = n[0]\n",
        "\tfor i in range(1,len(n)):\n",
        "\t\tif n[i]<m:\n",
        "\t\t\tm = n[i]\n",
        "\treturn m\n",
        "\n",
        "def maximum(n):\n",
        "\tm = n[0]\n",
        "\tfor i in range(1,len(n)):\n",
        "\t\tif n[i]>m:\n",
        "\t\t\tm = n[i]\n",
        "\treturn m\n",
        "\n",
        "def average(n):\n",
        "\ts = 0\n",
        "\tfor i in range(0,len(n)):\n",
        "\t\ts = s + n[i]\n",
        "\tavg = s/len(n)\n",
        "\treturn avg\n",
        "\n",
        "import math\n",
        "def std(x):\n",
        "\t#step 1: average\n",
        "\tavg = average(x)\n",
        "\t#step 2: summation\n",
        "\ts = 0\n",
        "\tfor i in range(len(x)):\n",
        " \t\ts += math.pow(x[i]-avg,2)\n",
        "\t#step 3: taking a square root\n",
        "\treturn math.sqrt(s/len(x))\n"
      ]
    },
    {
      "cell_type": "code",
      "execution_count": null,
      "metadata": {
        "colab": {
          "base_uri": "https://localhost:8080/"
        },
        "id": "3feOOFrocyf6",
        "outputId": "2f4f1ebe-406b-4aa9-a37c-d03313520dfa"
      },
      "outputs": [
        {
          "name": "stdout",
          "output_type": "stream",
          "text": [
            "Sum = 4936\n",
            "Average = 49.36\n",
            "Minimum = 1\n",
            "Maximum = 99\n",
            "Standard deviation = 30.68\n"
          ]
        }
      ],
      "source": [
        "# 10.1\n",
        "import my_module\n",
        "\n",
        "f = open('example_file1.txt')\n",
        "s = 0\n",
        "nlines = 0\n",
        "data = []\n",
        "for i in f:\n",
        "  s += int(i)\n",
        "  nlines += 1\n",
        "  data.append(int(i))\n",
        "f.close()\n",
        "\n",
        "print('Sum =', s)\n",
        "print('Average =', float(s/nlines))\n",
        "print('Minimum =', my_module.minimum(data))\n",
        "print('Maximum =', my_module.maximum(data))\n",
        "print('Standard deviation =', round(my_module.std(data),2))\n",
        "\n",
        "# write into a new file 'example_file1_result.txt'\n",
        "f = open('example_file1_result.txt', 'w')\n",
        "f.write('Sum = ' + str(s) + '\\n')\n",
        "f.write('Average = ' + str(round(float(s/nlines),2)) + '\\n')\n",
        "f.write('Minimum = ' + str(my_module.minimum(data)) + '\\n')\n",
        "f.write('Maximum = ' + str(my_module.maximum(data)) + '\\n')\n",
        "f.write('Standard deviation = ' + str(round(my_module.std(data),2)) + '\\n')\n",
        "f.close()"
      ]
    },
    {
      "cell_type": "code",
      "execution_count": null,
      "metadata": {
        "colab": {
          "base_uri": "https://localhost:8080/"
        },
        "id": "XvjxmNtRewe1",
        "outputId": "342b15dc-5bf3-46c7-cd53-beaaaa906b6e"
      },
      "outputs": [
        {
          "name": "stdout",
          "output_type": "stream",
          "text": [
            "Sum = 4936\n",
            "Average = 49.36\n",
            "Minimum = 1\n",
            "Maximum = 99\n",
            "Standard deviation = 30.68\n",
            "\n"
          ]
        }
      ],
      "source": [
        "f = open('example_file1_result.txt')\n",
        "print(f.read())"
      ]
    },
    {
      "cell_type": "code",
      "execution_count": null,
      "metadata": {
        "id": "h2IzV5LSfZ5G"
      },
      "outputs": [],
      "source": [
        "# 10.2\n",
        "\n",
        "f = open('lab_data1.txt')\n",
        "data = []\n",
        "nlines = 0\n",
        "s = 0\n",
        "for i in f:\n",
        "  s += int(i)\n",
        "  nlines += 1\n",
        "  data.append(int(i))\n",
        "f.close()\n",
        "f = open('lab_data2.txt')\n",
        "for i in f:\n",
        "  s += int(i)\n",
        "  nlines += 1\n",
        "  data.append(int(i))\n",
        "f.close()\n",
        "\n",
        "f = open('lab_data_result.txt', 'w')\n",
        "f.write('Sum = ' + str(s) + '\\n')\n",
        "\n",
        "f.write('Average = ' + str(round(float(s/nlines),2)) + '\\n')\n",
        "\n",
        "f.write('Minimum = ' + str(my_module.minimum(data)) + '\\n')\n",
        "\n",
        "f.write('Maximum = ' + str(my_module.maximum(data)) + '\\n')\n",
        "\n",
        "f.write('Standard deviation = ' + str(round(my_module.std(data),2)) + '\\n'\n",
        ")\n",
        "f.close()"
      ]
    },
    {
      "cell_type": "code",
      "execution_count": null,
      "metadata": {
        "colab": {
          "base_uri": "https://localhost:8080/"
        },
        "id": "VYJ2ssMvn0CA",
        "outputId": "4e631576-893b-45f3-d5b6-1581719790dd"
      },
      "outputs": [
        {
          "name": "stdout",
          "output_type": "stream",
          "text": [
            "Sum = 1654\n",
            "Average = 8.27\n",
            "Minimum = -50\n",
            "Maximum = 49\n",
            "Standard deviation = 26.77\n",
            "\n"
          ]
        }
      ],
      "source": [
        "f = open('lab_data_result.txt')\n",
        "print(f.read())"
      ]
    },
    {
      "cell_type": "code",
      "execution_count": null,
      "metadata": {
        "colab": {
          "base_uri": "https://localhost:8080/"
        },
        "id": "tOjCPEoroSyU",
        "outputId": "80e27446-ee12-41f8-af89-ad7fcd8c0527"
      },
      "outputs": [
        {
          "name": "stdout",
          "output_type": "stream",
          "text": [
            "Writing my_calculations.py\n"
          ]
        }
      ],
      "source": [
        "# 10.3\n",
        "%%writefile my_calculations.py\n",
        "\n",
        "def working_capital(x, y):\n",
        "    wc = []\n",
        "    for i in range(len(x)):\n",
        "        wc.append(x[i]-y[i])\n",
        "    return wc\n",
        "\n",
        "def current_ratio(x, y):\n",
        "    cr = []\n",
        "    for i in range(len(x)):\n",
        "        cr.append(round(x[i]/y[i],2))\n",
        "    return cr\n",
        "\n",
        "def debt_assets(x, y):\n",
        "    sx = 0\n",
        "    sy = 0\n",
        "    for i in range(len(x)):\n",
        "        sx = sx + x[i]\n",
        "        sy = sy + y[i]\n",
        "    ds= sy/sx\n",
        "    return round(ds,3)"
      ]
    },
    {
      "cell_type": "code",
      "execution_count": null,
      "metadata": {
        "colab": {
          "base_uri": "https://localhost:8080/"
        },
        "id": "5G8bO-RnoWu1",
        "outputId": "74b298fe-d513-4abd-8ea7-598f196c67b7"
      },
      "outputs": [
        {
          "name": "stdout",
          "output_type": "stream",
          "text": [
            "Working Capital = [-70.0, -2.0, 4.0, 2.0, -6.0, 11.0, 35.0, 19.0, 7.0, 4.0]\n",
            "Current ratio = [0.61, 0.98, 1.04, 1.02, 0.93, 1.13, 1.41, 1.21, 1.08, 1.04]\n",
            "Debt to assets = 0.996\n"
          ]
        }
      ],
      "source": [
        "# 10.3\n",
        "\n",
        "import my_calculations\n",
        "\n",
        "f1 = open('assets.txt')\n",
        "f2 = open('liabilities.txt')\n",
        "\n",
        "current_assets = []\n",
        "current_liabilities = []\n",
        "\n",
        "for i in f1:\n",
        "  current_assets.append(float(i))\n",
        "f1.close()\n",
        "\n",
        "for i in f2:\n",
        "  current_liabilities.append(float(i))\n",
        "f2.close()\n",
        "\n",
        "print(\"Working Capital = \", end=\"\")\n",
        "print(my_calculations.working_capital(current_assets,current_liabilities))\n",
        "\n",
        "print(\"Current ratio = \", end=\"\")\n",
        "print(my_calculations.current_ratio(current_assets,current_liabilities))\n",
        "\n",
        "print(\"Debt to assets = \", end=\"\")\n",
        "print(my_calculations.debt_assets(current_assets,current_liabilities))\n",
        "\n",
        "\n",
        "f = open('lab_data_result2.txt', 'w')\n",
        "f.write('Working Capital = ' + str(my_calculations.working_capital(current_assets,current_liabilities)) + '\\n')\n",
        "\n",
        "f.write('Current ratio = ' + str(my_calculations.current_ratio(current_assets,current_liabilities)) + '\\n')\n",
        "\n",
        "f.write('Debt to assets = ' + str(my_calculations.debt_assets(current_assets,current_liabilities)) + '\\n')\n",
        "\n",
        "f.close()"
      ]
    },
    {
      "cell_type": "code",
      "execution_count": null,
      "metadata": {
        "id": "M10UEdrYohpe"
      },
      "outputs": [],
      "source": []
    }
  ],
  "metadata": {
    "colab": {
      "provenance": []
    },
    "kernelspec": {
      "display_name": "Python 3",
      "name": "python3"
    },
    "language_info": {
      "name": "python",
      "version": "3.12.0"
    }
  },
  "nbformat": 4,
  "nbformat_minor": 0
}
